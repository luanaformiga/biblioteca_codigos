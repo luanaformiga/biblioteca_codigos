{
 "cells": [
  {
   "cell_type": "markdown",
   "metadata": {},
   "source": [
    "### Funções para trabalhar com datas"
   ]
  },
  {
   "cell_type": "markdown",
   "metadata": {},
   "source": [
    "Lidar com datas é sempre um grande desafio então neste código (working in progress) estou consolidando as funções para ajudar!"
   ]
  },
  {
   "cell_type": "code",
   "execution_count": null,
   "metadata": {},
   "outputs": [],
   "source": [
    "import pandas as pd"
   ]
  },
  {
   "cell_type": "code",
   "execution_count": 3,
   "metadata": {},
   "outputs": [
    {
     "data": {
      "text/plain": [
       "0   2015-02-04\n",
       "1   2016-03-05\n",
       "dtype: datetime64[ns]"
      ]
     },
     "execution_count": 3,
     "metadata": {},
     "output_type": "execute_result"
    }
   ],
   "source": [
    "# Converter variáveis separadas de ano, mês e dia para datetime\n",
    "df = pd.DataFrame({'year': [2015, 2016],\n",
    "                   'month': [2, 3],\n",
    "                   'day': [4, 5]})\n",
    "pd.to_datetime(df)"
   ]
  },
  {
   "cell_type": "code",
   "execution_count": 5,
   "metadata": {},
   "outputs": [
    {
     "name": "stdout",
     "output_type": "stream",
     "text": [
      "2019-01-11 00:00:00 <class 'pandas._libs.tslibs.timestamps.Timestamp'>\n"
     ]
    }
   ],
   "source": [
    "# Converter aaaammdd para data, Ignorando erros\n",
    "data = pd.to_datetime('20190111', format='%Y%m%d', errors='ignore')\n",
    "print(data, type(data))"
   ]
  },
  {
   "cell_type": "code",
   "execution_count": 10,
   "metadata": {},
   "outputs": [
    {
     "name": "stdout",
     "output_type": "stream",
     "text": [
      "NaT <class 'pandas._libs.tslibs.nattype.NaTType'>\n"
     ]
    }
   ],
   "source": [
    "# Converter aaaammdd para data, no caso se erros, retorna NaT\n",
    "data = pd.to_datetime('201900111', format='%Y%m%d', errors='coerce')\n",
    "print(data, type(data))"
   ]
  },
  {
   "cell_type": "code",
   "execution_count": 20,
   "metadata": {},
   "outputs": [
    {
     "data": {
      "text/plain": [
       "-62"
      ]
     },
     "execution_count": 20,
     "metadata": {},
     "output_type": "execute_result"
    }
   ],
   "source": [
    "# Diferenca entre datas em meses\n",
    "from datetime import datetime\n",
    "def diff_month(d1, d2):\n",
    "    return (d1.year - d2.year) * 12 + d1.month - d2.month\n",
    "\n",
    "diff_month(datetime(2019,8,1), datetime(2010,10,1),)\n",
    "diff_month(datetime(2005,8,1), datetime(2010,10,1),)"
   ]
  },
  {
   "cell_type": "code",
   "execution_count": 165,
   "metadata": {},
   "outputs": [
    {
     "data": {
      "text/plain": [
       "-117"
      ]
     },
     "execution_count": 165,
     "metadata": {},
     "output_type": "execute_result"
    }
   ],
   "source": [
    "# Diferenca entre datas em meses com datetime\n",
    "def months_between(d1, d2): \n",
    "    diff = (12 * d1.year + d1.month) - (12 * d2.year + d2.month)\n",
    "    return diff\n",
    "\n",
    "months_between(datetime(2009,8,1),datetime(2019,5,1))"
   ]
  },
  {
   "cell_type": "code",
   "execution_count": 175,
   "metadata": {},
   "outputs": [
    {
     "data": {
      "text/plain": [
       "120"
      ]
     },
     "execution_count": 175,
     "metadata": {},
     "output_type": "execute_result"
    }
   ],
   "source": [
    "# Diferenca entre datas em meses, sem transformar em datetime\n",
    "def months_between(d1, d2): \n",
    "    diff = (12 * pd.to_datetime(d1, format='%Y%m%d', errors='ignore').year + pd.to_datetime(d1, format='%Y%m%d', errors='ignore').month) - (12 * pd.to_datetime(d2, format='%Y%m%d', errors='ignore').year + pd.to_datetime(d2, format='%Y%m%d', errors='ignore').month)\n",
    "    return diff\n",
    "months_between(20190501,20090501)"
   ]
  },
  {
   "cell_type": "code",
   "execution_count": 85,
   "metadata": {},
   "outputs": [
    {
     "data": {
      "text/plain": [
       "Timestamp('2009-08-02 00:00:00')"
      ]
     },
     "execution_count": 85,
     "metadata": {},
     "output_type": "execute_result"
    }
   ],
   "source": [
    "# somar dias\n",
    "from datetime import datetime  \n",
    "from datetime import timedelta  \n",
    "\n",
    "def sum_days(data, number_of_days):\n",
    "    return pd.to_datetime(pd.to_datetime(data, format='%Y%m%d', errors='ignore') + timedelta(days= +number_of_days))\n",
    "sum_days(20090801, 1)"
   ]
  },
  {
   "cell_type": "code",
   "execution_count": 162,
   "metadata": {},
   "outputs": [
    {
     "data": {
      "text/plain": [
       "201207"
      ]
     },
     "execution_count": 162,
     "metadata": {},
     "output_type": "execute_result"
    }
   ],
   "source": [
    "# somar meses\n",
    "from datetime import datetime  \n",
    "from datetime import timedelta  \n",
    "\n",
    "def sum_month(d1, add_month):\n",
    "    months = (pd.to_datetime(d1, format='%Y%m%d', errors='ignore').month) + add_month\n",
    "    if months>12:\n",
    "        return ((pd.to_datetime(d1, format='%Y%m%d', errors='ignore').year)+int(months/12))*100 + (months%12)\n",
    "    else:\n",
    "        return (pd.to_datetime(d1, format='%Y%m%d', errors='ignore').year)*100 +(pd.to_datetime(d1, format='%Y%m%d', errors='ignore').month)+add_month\n",
    "sum_month(20090801, 35)"
   ]
  }
 ],
 "metadata": {
  "kernelspec": {
   "display_name": "Python 3",
   "language": "python",
   "name": "python3"
  },
  "language_info": {
   "codemirror_mode": {
    "name": "ipython",
    "version": 3
   },
   "file_extension": ".py",
   "mimetype": "text/x-python",
   "name": "python",
   "nbconvert_exporter": "python",
   "pygments_lexer": "ipython3",
   "version": "3.7.1"
  }
 },
 "nbformat": 4,
 "nbformat_minor": 2
}
